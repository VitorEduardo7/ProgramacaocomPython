{
  "nbformat": 4,
  "nbformat_minor": 0,
  "metadata": {
    "colab": {
      "provenance": [],
      "authorship_tag": "ABX9TyN+xfmgeATcx/YM7Hf8OF8k",
      "include_colab_link": true
    },
    "kernelspec": {
      "name": "python3",
      "display_name": "Python 3"
    },
    "language_info": {
      "name": "python"
    }
  },
  "cells": [
    {
      "cell_type": "markdown",
      "metadata": {
        "id": "view-in-github",
        "colab_type": "text"
      },
      "source": [
        "<a href=\"https://colab.research.google.com/github/VitorEduardo7/ProgramacaocomPython/blob/main/aulas/Resolu%C3%A7%C3%A3oprovaLacos.ipynb\" target=\"_parent\"><img src=\"https://colab.research.google.com/assets/colab-badge.svg\" alt=\"Open In Colab\"/></a>"
      ]
    },
    {
      "cell_type": "markdown",
      "source": [],
      "metadata": {
        "id": "7ZsKJYHsliCE"
      }
    },
    {
      "cell_type": "code",
      "execution_count": 3,
      "metadata": {
        "id": "bizfy3aZMr7_",
        "colab": {
          "base_uri": "https://localhost:8080/"
        },
        "outputId": "77f005e9-ba79-4672-b817-4eaf7534e3bf"
      },
      "outputs": [
        {
          "output_type": "stream",
          "name": "stdout",
          "text": [
            "3\n",
            "Digite um número que está entre 1 a 100: 53\n",
            "Você tem 19 pontos\n",
            "Você errou! O número secreto é menor que 53\n",
            "Você está congelando... Tente de novo\n",
            "Digite um número que está entre 1 a 100: 30\n",
            "Você tem 18 pontos\n",
            "Você errou! O número secreto é menor que 30\n",
            "Você está congelando... Tente de novo\n",
            "Digite um número que está entre 1 a 100: 15\n",
            "Você tem 17 pontos\n",
            "Você errou! O número secreto é menor que 15\n",
            "Você está frio!\n",
            "Digite um número que está entre 1 a 100: 10\n",
            "Você tem 16 pontos\n",
            "Você errou! O número secreto é menor que 10\n",
            "Você está esquentando! Continue tentando.\n",
            "Digite um número que está entre 1 a 100: 9\n",
            "Você tem 15 pontos\n",
            "Você errou! O número secreto é menor que 9\n",
            "Você está esquentando! Continue tentando.\n",
            "Digite um número que está entre 1 a 100: 8\n",
            "Você tem 14 pontos\n",
            "Você errou! O número secreto é menor que 8\n",
            "Digite um número que está entre 1 a 100: 6\n",
            "Você tem 13 pontos\n",
            "Você errou! O número secreto é menor que 6\n",
            "Você está quente! Quase lá.\n",
            "Digite um número que está entre 1 a 100: 5\n",
            "Você tem 12 pontos\n",
            "Você errou! O número secreto é menor que 5\n",
            "Você está quente! Quase lá.\n",
            "Digite um número que está entre 1 a 100: 4\n",
            "Você tem 11 pontos\n",
            "Você errou! O número secreto é menor que 4\n",
            "Você está quente! Quase lá.\n",
            "Digite um número que está entre 1 a 100: 3\n",
            "Você tem 10 pontos\n",
            "Você acertou!\n",
            "Você tentou 10 vezes\n"
          ]
        }
      ],
      "source": [
        "import random\n",
        "secreto = random.randint(1, 100)\n",
        "resp = 0\n",
        "contador = 0\n",
        "pont = 20\n",
        "print(secreto)\n",
        "while resp != secreto:\n",
        "    resp = int(input(\"Digite um número que está entre 1 a 100: \"))\n",
        "    contador += 1\n",
        "    pont -= 1\n",
        "    print(\"Você tem\", pont, \"pontos\")\n",
        "    if pont == 0:\n",
        "      print(\"Acabou suas tentativas!\")\n",
        "      break\n",
        "    if resp < 1 or resp > 100:\n",
        "      print(\"Deve ser digitado um número entre 1 a 100!\")\n",
        "      continue\n",
        "    if resp < secreto:\n",
        "      print(\"Você errou! O número secreto é menor que\", resp)\n",
        "      calc = secreto - resp\n",
        "      if calc <= 5:\n",
        "        print(\"Está quente!\")\n",
        "      elif calc <= 10 and calc > 5:\n",
        "        print(\"Você está esquentando quase lá¹!\")\n",
        "      elif calc > 10 and calc <= 20:\n",
        "        print(\"Sua tentativa está fria!\")\n",
        "      elif calc > 20:\n",
        "        print(\"Você está congelando\")\n",
        "    if resp > secreto:\n",
        "      print(\"Você errou! O número secreto é menor que\", resp)\n",
        "      calc = resp - secreto\n",
        "      if calc < 5:\n",
        "        print(\"Você está quente! Quase lá.\")\n",
        "      elif calc < 10 and calc > 5:\n",
        "        print(\"Você está esquentando! Continue tentando.\")\n",
        "      elif calc > 10 and calc < 20:\n",
        "        print(\"Você está frio!\")\n",
        "      elif calc > 20:\n",
        "        print(\"Você está congelando... Tente de novo\")\n",
        "      continue\n",
        "    if resp == secreto:\n",
        "        print(\"Você acertou!\")\n",
        "        print(\"Você tentou\", contador, \"vezes\")\n",
        "        break"
      ]
    },
    {
      "cell_type": "code",
      "source": [
        "total = 0\n",
        "print(\"Digite suas compras!\")\n",
        "print(\"Digite 0 para sair\")\n",
        "while True:\n",
        "  print(\"Valor:\")\n",
        "  valor = int(input())\n",
        "  if valor == 0:\n",
        "    break\n",
        "  total += valor\n",
        "print(\"Qual o pagamento?\")\n",
        "print(\"1 - A vista\")\n",
        "print(\"2 - No cartão\")\n",
        "pag = float(input())\n",
        "if pag == 1:\n",
        "  vista = total*0.95\n",
        "  print(\"O valor a ser pago é\", vista)\n",
        "elif pag == 2:\n",
        "  cartao = total*1\n",
        "  print(\"O valor a ser pago é\", cartao)\n",
        "else:\n",
        "  print(\"Digite um valor válido!\")"
      ],
      "metadata": {
        "id": "IUpGG0A-lhXU"
      },
      "execution_count": null,
      "outputs": []
    }
  ]
}